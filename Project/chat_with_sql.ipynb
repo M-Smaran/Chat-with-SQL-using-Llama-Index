{
 "cells": [
  {
   "cell_type": "code",
   "execution_count": 1,
   "metadata": {},
   "outputs": [
    {
     "name": "stdout",
     "output_type": "stream",
     "text": [
      "Requirement already satisfied: langchain in c:\\users\\smaran\\anaconda3\\envs\\project\\lib\\site-packages (0.1.17)\n",
      "Requirement already satisfied: langchain-community<0.1,>=0.0.36 in c:\\users\\smaran\\anaconda3\\envs\\project\\lib\\site-packages (from langchain) (0.0.36)\n",
      "Requirement already satisfied: requests<3,>=2 in c:\\users\\smaran\\appdata\\roaming\\python\\python39\\site-packages (from langchain) (2.31.0)\n",
      "Requirement already satisfied: dataclasses-json<0.7,>=0.5.7 in c:\\users\\smaran\\anaconda3\\envs\\project\\lib\\site-packages (from langchain) (0.6.5)\n",
      "Requirement already satisfied: async-timeout<5.0.0,>=4.0.0 in c:\\users\\smaran\\appdata\\roaming\\python\\python39\\site-packages (from langchain) (4.0.3)\n",
      "Requirement already satisfied: langchain-core<0.2.0,>=0.1.48 in c:\\users\\smaran\\anaconda3\\envs\\project\\lib\\site-packages (from langchain) (0.1.50)\n",
      "Requirement already satisfied: jsonpatch<2.0,>=1.33 in c:\\users\\smaran\\appdata\\roaming\\python\\python39\\site-packages (from langchain) (1.33)\n",
      "Requirement already satisfied: aiohttp<4.0.0,>=3.8.3 in c:\\users\\smaran\\appdata\\roaming\\python\\python39\\site-packages (from langchain) (3.9.1)\n",
      "Requirement already satisfied: pydantic<3,>=1 in c:\\users\\smaran\\appdata\\roaming\\python\\python39\\site-packages (from langchain) (1.9.0)\n",
      "Requirement already satisfied: langchain-text-splitters<0.1,>=0.0.1 in c:\\users\\smaran\\anaconda3\\envs\\project\\lib\\site-packages (from langchain) (0.0.1)\n",
      "Requirement already satisfied: PyYAML>=5.3 in c:\\users\\smaran\\appdata\\roaming\\python\\python39\\site-packages (from langchain) (6.0)\n",
      "Requirement already satisfied: numpy<2,>=1 in c:\\users\\smaran\\appdata\\roaming\\python\\python39\\site-packages (from langchain) (1.23.0)\n",
      "Requirement already satisfied: SQLAlchemy<3,>=1.4 in c:\\users\\smaran\\appdata\\roaming\\python\\python39\\site-packages (from langchain) (1.4.32)\n",
      "Requirement already satisfied: tenacity<9.0.0,>=8.1.0 in c:\\users\\smaran\\appdata\\roaming\\python\\python39\\site-packages (from langchain) (8.2.3)\n",
      "Requirement already satisfied: langsmith<0.2.0,>=0.1.17 in c:\\users\\smaran\\anaconda3\\envs\\project\\lib\\site-packages (from langchain) (0.1.54)\n",
      "Requirement already satisfied: attrs>=17.3.0 in c:\\users\\smaran\\appdata\\roaming\\python\\python39\\site-packages (from aiohttp<4.0.0,>=3.8.3->langchain) (21.4.0)\n",
      "Requirement already satisfied: frozenlist>=1.1.1 in c:\\users\\smaran\\appdata\\roaming\\python\\python39\\site-packages (from aiohttp<4.0.0,>=3.8.3->langchain) (1.4.1)\n",
      "Requirement already satisfied: multidict<7.0,>=4.5 in c:\\users\\smaran\\appdata\\roaming\\python\\python39\\site-packages (from aiohttp<4.0.0,>=3.8.3->langchain) (6.0.4)\n",
      "Requirement already satisfied: aiosignal>=1.1.2 in c:\\users\\smaran\\appdata\\roaming\\python\\python39\\site-packages (from aiohttp<4.0.0,>=3.8.3->langchain) (1.3.1)\n",
      "Requirement already satisfied: yarl<2.0,>=1.0 in c:\\users\\smaran\\appdata\\roaming\\python\\python39\\site-packages (from aiohttp<4.0.0,>=3.8.3->langchain) (1.9.4)\n",
      "Requirement already satisfied: typing-inspect<1,>=0.4.0 in c:\\users\\smaran\\anaconda3\\envs\\project\\lib\\site-packages (from dataclasses-json<0.7,>=0.5.7->langchain) (0.9.0)\n",
      "Requirement already satisfied: marshmallow<4.0.0,>=3.18.0 in c:\\users\\smaran\\anaconda3\\envs\\project\\lib\\site-packages (from dataclasses-json<0.7,>=0.5.7->langchain) (3.21.2)\n",
      "Requirement already satisfied: jsonpointer>=1.9 in c:\\users\\smaran\\appdata\\roaming\\python\\python39\\site-packages (from jsonpatch<2.0,>=1.33->langchain) (2.4)\n",
      "Requirement already satisfied: packaging<24.0,>=23.2 in c:\\users\\smaran\\appdata\\roaming\\python\\python39\\site-packages (from langchain-core<0.2.0,>=0.1.48->langchain) (23.2)\n",
      "Requirement already satisfied: orjson<4.0.0,>=3.9.14 in c:\\users\\smaran\\appdata\\roaming\\python\\python39\\site-packages (from langsmith<0.2.0,>=0.1.17->langchain) (3.9.15)\n",
      "Requirement already satisfied: typing-extensions>=3.7.4.3 in c:\\users\\smaran\\appdata\\roaming\\python\\python39\\site-packages (from pydantic<3,>=1->langchain) (4.9.0)\n",
      "Requirement already satisfied: charset-normalizer<4,>=2 in c:\\users\\smaran\\appdata\\roaming\\python\\python39\\site-packages (from requests<3,>=2->langchain) (2.0.10)\n",
      "Requirement already satisfied: certifi>=2017.4.17 in c:\\users\\smaran\\appdata\\roaming\\python\\python39\\site-packages (from requests<3,>=2->langchain) (2023.11.17)\n",
      "Requirement already satisfied: idna<4,>=2.5 in c:\\users\\smaran\\appdata\\roaming\\python\\python39\\site-packages (from requests<3,>=2->langchain) (3.3)\n",
      "Requirement already satisfied: urllib3<3,>=1.21.1 in c:\\users\\smaran\\appdata\\roaming\\python\\python39\\site-packages (from requests<3,>=2->langchain) (1.26.18)\n",
      "Requirement already satisfied: greenlet!=0.4.17 in c:\\users\\smaran\\appdata\\roaming\\python\\python39\\site-packages (from SQLAlchemy<3,>=1.4->langchain) (1.1.2)\n",
      "Requirement already satisfied: mypy-extensions>=0.3.0 in c:\\users\\smaran\\anaconda3\\envs\\project\\lib\\site-packages (from typing-inspect<1,>=0.4.0->dataclasses-json<0.7,>=0.5.7->langchain) (1.0.0)\n",
      "Note: you may need to restart the kernel to use updated packages.\n"
     ]
    },
    {
     "name": "stderr",
     "output_type": "stream",
     "text": [
      "\n",
      "[notice] A new release of pip available: 22.3.1 -> 24.0\n",
      "[notice] To update, run: python.exe -m pip install --upgrade pip\n"
     ]
    }
   ],
   "source": [
    "pip install langchain"
   ]
  },
  {
   "cell_type": "code",
   "execution_count": 2,
   "metadata": {},
   "outputs": [
    {
     "name": "stdout",
     "output_type": "stream",
     "text": [
      "Requirement already satisfied: openai in c:\\users\\smaran\\anaconda3\\envs\\project\\lib\\site-packages (1.25.1)\n",
      "Requirement already satisfied: tqdm>4 in c:\\users\\smaran\\appdata\\roaming\\python\\python39\\site-packages (from openai) (4.66.1)\n",
      "Requirement already satisfied: pydantic<3,>=1.9.0 in c:\\users\\smaran\\appdata\\roaming\\python\\python39\\site-packages (from openai) (1.9.0)\n",
      "Requirement already satisfied: anyio<5,>=3.5.0 in c:\\users\\smaran\\appdata\\roaming\\python\\python39\\site-packages (from openai) (3.5.0)\n",
      "Requirement already satisfied: typing-extensions<5,>=4.7 in c:\\users\\smaran\\appdata\\roaming\\python\\python39\\site-packages (from openai) (4.9.0)\n",
      "Requirement already satisfied: sniffio in c:\\users\\smaran\\appdata\\roaming\\python\\python39\\site-packages (from openai) (1.2.0)\n",
      "Requirement already satisfied: httpx<1,>=0.23.0 in c:\\users\\smaran\\anaconda3\\envs\\project\\lib\\site-packages (from openai) (0.27.0)\n",
      "Requirement already satisfied: distro<2,>=1.7.0 in c:\\users\\smaran\\anaconda3\\envs\\project\\lib\\site-packages (from openai) (1.9.0)\n",
      "Requirement already satisfied: idna>=2.8 in c:\\users\\smaran\\appdata\\roaming\\python\\python39\\site-packages (from anyio<5,>=3.5.0->openai) (3.3)\n",
      "Requirement already satisfied: certifi in c:\\users\\smaran\\appdata\\roaming\\python\\python39\\site-packages (from httpx<1,>=0.23.0->openai) (2023.11.17)\n",
      "Requirement already satisfied: httpcore==1.* in c:\\users\\smaran\\anaconda3\\envs\\project\\lib\\site-packages (from httpx<1,>=0.23.0->openai) (1.0.5)\n",
      "Requirement already satisfied: h11<0.15,>=0.13 in c:\\users\\smaran\\appdata\\roaming\\python\\python39\\site-packages (from httpcore==1.*->httpx<1,>=0.23.0->openai) (0.14.0)\n",
      "Requirement already satisfied: colorama in c:\\users\\smaran\\appdata\\roaming\\python\\python39\\site-packages (from tqdm>4->openai) (0.4.4)\n",
      "Note: you may need to restart the kernel to use updated packages.\n"
     ]
    },
    {
     "name": "stderr",
     "output_type": "stream",
     "text": [
      "\n",
      "[notice] A new release of pip available: 22.3.1 -> 24.0\n",
      "[notice] To update, run: python.exe -m pip install --upgrade pip\n"
     ]
    }
   ],
   "source": [
    "pip install openai"
   ]
  },
  {
   "cell_type": "markdown",
   "metadata": {},
   "source": [
    "## Setting up openapi key in the os environment "
   ]
  },
  {
   "cell_type": "code",
   "execution_count": null,
   "metadata": {},
   "outputs": [],
   "source": [
    "import os \n",
    "os.environ[\"OPEN_API_KEY\"] = \"Sk-xxxx\"\n",
    "import openai\n",
    "openai.api_key = \"sk-xxx\""
   ]
  },
  {
   "cell_type": "markdown",
   "metadata": {},
   "source": [
    "Importing all the necessary lib"
   ]
  },
  {
   "cell_type": "code",
   "execution_count": null,
   "metadata": {},
   "outputs": [],
   "source": [
    "import os \n",
    "from langchain.agents import *\n",
    "from langchain.llms import OpenAI\n",
    "from langchain.agents.agent_toolkits import SQLDatabaseToolkit\n",
    "from langchain.agents import AgentExecutor"
   ]
  },
  {
   "cell_type": "markdown",
   "metadata": {},
   "source": [
    "## Connect to your database"
   ]
  },
  {
   "cell_type": "code",
   "execution_count": null,
   "metadata": {},
   "outputs": [],
   "source": [
    "db_user = \"root\"\n",
    "db_password = \"root\"\n",
    "db_host = \"localhost\"\n",
    "db_name = \"ahi_database\"\n",
    "db = SQLDatabase.from_url(f\"mysql+pymsql://{db_user}:{db_password}@{db_host}/{db_name}\")"
   ]
  },
  {
   "cell_type": "markdown",
   "metadata": {},
   "source": [
    "## Set up LLM, toolkit and agent executor "
   ]
  },
  {
   "cell_type": "code",
   "execution_count": 2,
   "metadata": {},
   "outputs": [],
   "source": [
    "#Initializing the llm model \n",
    "from langchain.chat_models import ChatOpenAI\n",
    "llm = ChatOpenAI(model_name = \"gpt-3.5-turbo\")\n"
   ]
  },
  {
   "cell_type": "code",
   "execution_count": null,
   "metadata": {},
   "outputs": [],
   "source": [
    "toolkit = SQLDatabaseToolkit(db=db,llm=llm)"
   ]
  },
  {
   "cell_type": "code",
   "execution_count": null,
   "metadata": {},
   "outputs": [],
   "source": [
    "agent_executor = create_sql_agent(\n",
    "    llm=llm,\n",
    "    toolkit=toolkit,\n",
    "    verbose=True\n",
    ")"
   ]
  },
  {
   "cell_type": "markdown",
   "metadata": {},
   "source": [
    "## Lets ask the question "
   ]
  },
  {
   "cell_type": "code",
   "execution_count": null,
   "metadata": {},
   "outputs": [],
   "source": [
    "agent_executor.run(\"How many tables do we have?\")"
   ]
  },
  {
   "cell_type": "code",
   "execution_count": null,
   "metadata": {},
   "outputs": [],
   "source": [
    "agent_executor.run(\"How many rows do we have in the cattle table?\")"
   ]
  },
  {
   "cell_type": "code",
   "execution_count": null,
   "metadata": {},
   "outputs": [],
   "source": [
    "agent_executor.run(\"Extract all the data from cattle table where animal color is black\")"
   ]
  },
  {
   "cell_type": "code",
   "execution_count": null,
   "metadata": {},
   "outputs": [],
   "source": []
  }
 ],
 "metadata": {
  "kernelspec": {
   "display_name": "project",
   "language": "python",
   "name": "python3"
  },
  "language_info": {
   "codemirror_mode": {
    "name": "ipython",
    "version": 3
   },
   "file_extension": ".py",
   "mimetype": "text/x-python",
   "name": "python",
   "nbconvert_exporter": "python",
   "pygments_lexer": "ipython3",
   "version": "3.9.19"
  }
 },
 "nbformat": 4,
 "nbformat_minor": 2
}
